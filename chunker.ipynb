{
 "cells": [
  {
   "cell_type": "code",
   "execution_count": 1,
   "metadata": {
    "collapsed": true
   },
   "outputs": [],
   "source": [
    "from nltk.chunk import *\n",
    "from nltk.chunk.util import *\n",
    "from nltk.chunk.regexp import *\n",
    "from nltk import Tree\n",
    "from nltk.tokenize import word_tokenize\n",
    "import nltk\n",
    "import codecs\n",
    "import re"
   ]
  },
  {
   "cell_type": "code",
   "execution_count": 2,
   "metadata": {
    "collapsed": true
   },
   "outputs": [],
   "source": [
    "def filter_paren(tup):\n",
    "    if tup[0] == '(':\n",
    "        return tup[0], '-NONE-'\n",
    "    return tup"
   ]
  },
  {
   "cell_type": "code",
   "execution_count": 3,
   "metadata": {
    "collapsed": false
   },
   "outputs": [],
   "source": [
    "def parse1(toks):\n",
    "    grammer = \"Location: {<NNP>+<CD><NNP>+<CD>}\"\n",
    "    cp = nltk.RegexpParser(grammer)\n",
    "    result = cp.parse(toks)\n",
    "    return [s for s in result.subtrees(lambda t: t.label() == 'Location')]"
   ]
  },
  {
   "cell_type": "code",
   "execution_count": 4,
   "metadata": {
    "collapsed": true
   },
   "outputs": [],
   "source": [
    "def parse2(toks):\n",
    "#     grammer = \"Location: {<CD><NNP>+}\"\n",
    "    grammer = \"Location: {<CD><NNP>+<JJ>?<NNP>+|<CD><NNP><CD><NNP>+|<CD>+<NNP>+|<CD><NNP>+}\"\n",
    "    cp = nltk.RegexpParser(grammer)\n",
    "    result = cp.parse(toks)\n",
    "    return [s for s in result.subtrees(lambda t: t.label() == 'Location')]"
   ]
  },
  {
   "cell_type": "code",
   "execution_count": 5,
   "metadata": {
    "collapsed": false
   },
   "outputs": [],
   "source": [
    "def showResults(res):\n",
    "    for ad in res: \n",
    "        address = []\n",
    "        for component in ad: \n",
    "            address.append(component[0])\n",
    "        print ' '.join(address)\n",
    "        if address[-2].lower() == 'ny' or address[-1].lower() == 'ny' :\n",
    "            print ' '.join(address)"
   ]
  },
  {
   "cell_type": "code",
   "execution_count": 6,
   "metadata": {
    "collapsed": false,
    "scrolled": true
   },
   "outputs": [
    {
     "name": "stdout",
     "output_type": "stream",
     "text": [
      "Test Case 2 Type : Public Hearing Department : Department Of Consumer Affairs Date Published : January 20 , 2015 NOTICE IS HEREBY GIVEN , pursuant to law , that the New York City Department of Consumer Affairs will hold a Public Hearing on Wednesday , January 28 , 2015 , at 2:00 P.M. , at 66 John Street , 11th Floor , NY , NY , on the following petitions for sidewalk café revocable consent : 1 . 132 Mulberry Inc. 132 Mulberry Street NY , NY ( To maintain , and operate an unenclosed sidewalk café for a term of two years . ) 2 . 135 West Broadway Food & Drink LLC 135 W Broadway NY , NY ( To continue to maintain , and operate an unenclosed sidewalk café for a term of four years . ) 3 . 149 Second Ave. Rest Inc. 149 2nd Avenue NY , NY ( To continue to maintain , and operate an unenclosed sidewalk café for a term of four years . ) 4 . 241 Bowery Corp. 241 Bowery NY , NY ( To continue to maintain , and operate an unenclosed sidewalk café for a term of four years . ) 5 . 600 West 169th Rest Inc. 4015 Broadway NY , NY ( To maintain , and operate an unenclosed sidewalk café for a term of two years . ) 6 . 675 Hudson Vault , LLC 675 Hudson Street NY , NY ( To continue to maintain , and operate an unenclosed sidewalk café for a term of four years . ) 7 . 76th Street Restaurant , LLC 20 E 76th Street in the Manhattan , Ny ( To continue to maintain , and operate a small unenclosed sidewalk café for a term of four years . ) 8 . 975 Amsterdam , Inc. 975 Amsterdam Avenue in the Manhattan , Ny ( To maintain , and operate a regular unenclosed/small unenclosed sidewalk café for a term of two years . ) 9 . Amber 221 Inc. 221 Columbus Avenue NY , NY ( To establish , maintain , and operate an enclosed sidewalk café for a term of two years . ) 10 . BSWR Corp. 423 Amsterdam Avenue NY , NY ( To maintain , and operate an unenclosed sidewalk café for a term of two years . ) 11 . Burke’s Beal Bocht Corp. 445 W 238th Street BX , NY ( To continue to maintain , and operate an unenclosed sidewalk café for a term of four years . ) 12 . ERS Enterprises Inc. 44 W 63rd Street NY , NY ( To continue to maintain , and operate an enclosed sidewalk café for a term of four years . ) 13 . Gyro King Foods Corp. 50 E Fordham Road BX , NY ( To continue to maintain , and operate an unenclosed sidewalk café for a term of four years . ) 14 . Hedgie LLC 22 Peck Slip NY , NY ( To continue to maintain , and operate an unenclosed sidewalk café for a term of four years . ) 15 . Iridium Restaurant Corp. 20 Spring Street NY , NY ( To continue to maintain , and operate an unenclosed sidewalk café for a term of four years . ) 16 . La Boca Wine Bar LLC 24 Saint Nicholas Avenue in the Brooklyn , Ny ( To maintain , and operate an unenclosed sidewalk café for a term of two years . ) 17 . La Meridiana , LTD 26 Carmine Street NY , NY ( To maintain , and operate an unenclosed sidewalk café for a term of two years . ) 18 . LCN Cafe Corp. 10603 Metropolitan Avenue Queens , NY ( To maintain , and operate an unenclosed sidewalk café for a term of two years . ) 19 . M.B.R.P . Rest. , Inc. 1454 2nd Avenue NY , NY ( To continue to maintain , and operate an unenclosed sidewalk café for a term of four years . ) 20 . New Mekong Restaurant Corp. 16 King Street NY , NY ( To maintain , and operate an unenclosed sidewalk café for a term of two years . ) 21 . Osteria Laguna LLC 209 E 42nd Street NY , NY ( To continue to maintain , and operate a small unenclosed sidewalk café for a term of four years . ) 22 . P.J.’S of Little Italy , Inc. 138 Mulberry Street in the Manhattan , Ny ( To maintain , and operate an unenclosed sidewalk café for a term of two years . ) 23 . Philippe NYC I LLC 33 E 60th Street NY , NY ( To continue to maintain , and operate a small unenclosed sidewalk café for a term of four years . ) 24 . Ray Thai Inc. 723 Fulton Street in the Brooklyn , Ny ( To continue to maintain , and operate an unenclosed sidewalk café for a term of four years . ) 25 . Sals Family Pizza Inc. 384 Broome Street in the Manhattan , Ny ( To establish maintain , and operate an unenclosed sidewalk café for a term of two years . )\n"
     ]
    }
   ],
   "source": [
    "text = codecs.open('tests/ad-sample2.txt','r', encoding='utf8').read()\n",
    "text = text.replace('in the Borough of Manhattan', 'NY, NY')\n",
    "text = text.replace('in the Borough of Brooklyn', 'Brooklyn, NY')\n",
    "text = text.replace('in the Borough of Queens', 'Queens, NY')\n",
    "text = text.replace('in the Borough of Staten Island', 'SI, NY')\n",
    "text = text.replace('in the Borough of Bronx', 'BX, NY')\n",
    "\n",
    "rex = re.compile('Borough\\s+of\\s+(Manhattan|Brooklyn|Queens|Staten\\s+Island|Bronx)',re.IGNORECASE)\n",
    "text = rex.sub('\\\\1, Ny', text)\n",
    "text = word_tokenize(text)\n",
    "print ' '.join(text)"
   ]
  },
  {
   "cell_type": "code",
   "execution_count": 7,
   "metadata": {
    "collapsed": false,
    "scrolled": true
   },
   "outputs": [
    {
     "name": "stdout",
     "output_type": "stream",
     "text": [
      "[(u'Test', 'NN'), (u'Case', 'NN'), (u'2', 'CD'), (u'Type', 'NNP'), (u':', ':'), (u'Public', 'NNP'), (u'Hearing', 'NNP'), (u'Department', 'NNP'), (u':', ':'), (u'Department', 'NNP'), (u'Of', 'IN'), (u'Consumer', 'NNP'), (u'Affairs', 'NNP'), (u'Date', 'NNP'), (u'Published', 'NNP'), (u':', ':'), (u'January', 'NNP'), (u'20', 'CD'), (u'2015', 'CD'), (u'NOTICE', 'NNP'), (u'IS', 'NNP'), (u'HEREBY', 'NNP'), (u'GIVEN', 'NNP'), (u'pursuant', 'JJ'), (u'to', 'TO'), (u'law', 'NN'), (u'that', 'IN'), (u'the', 'DT'), (u'New', 'NNP'), (u'York', 'NNP'), (u'City', 'NNP'), (u'Department', 'NNP'), (u'of', 'IN'), (u'Consumer', 'NNP'), (u'Affairs', 'NNP'), (u'will', 'MD'), (u'hold', 'VB'), (u'a', 'DT'), (u'Public', 'NNP'), (u'Hearing', 'NNP'), (u'on', 'IN'), (u'Wednesday', 'NNP'), (u'January', 'NNP'), (u'28', 'CD'), (u'2015', 'CD'), (u'at', 'IN'), (u'2:00', 'CD'), (u'P.M.', 'NNP'), (u'at', 'IN'), (u'66', 'CD'), (u'John', 'NNP'), (u'Street', 'NNP'), (u'11th', 'JJ'), (u'Floor', 'NNP'), (u'NY', 'NNP'), (u'NY', 'NNP'), (u'on', 'IN'), (u'the', 'DT'), (u'following', 'JJ'), (u'petitions', 'NNS'), (u'for', 'IN'), (u'sidewalk', 'NN'), (u'caf\\xe9', '-NONE-'), (u'revocable', 'JJ'), (u'consent', 'NN'), (u':', ':'), (u'1', 'LS'), (u'.', '.'), (u'132', 'CD'), (u'Mulberry', 'NNP'), (u'Inc.', 'NNP'), (u'132', 'CD'), (u'Mulberry', 'NNP'), (u'Street', 'NNP'), (u'NY', 'NNP'), (u'NY', 'NNP'), (u'(', 'NNP'), (u'To', 'NNP'), (u'maintain', 'VB'), (u'and', 'CC'), (u'operate', 'VB'), (u'an', 'DT'), (u'unenclosed', 'VBN'), (u'sidewalk', 'NN'), (u'caf\\xe9', '-NONE-'), (u'for', 'IN'), (u'a', 'DT'), (u'term', 'NN'), (u'of', 'IN'), (u'two', 'CD'), (u'years', 'NNS'), (u'.', '.'), (u')', ':'), (u'2', 'CD'), (u'.', '.'), (u'135', 'CD'), (u'West', 'NNP'), (u'Broadway', 'NNP'), (u'Food', 'NNP'), (u'&', 'CC'), (u'Drink', 'NNP'), (u'LLC', 'NNP'), (u'135', 'CD'), (u'W', 'NNP'), (u'Broadway', 'NNP'), (u'NY', 'NNP'), (u'NY', 'NNP'), (u'(', 'NNP'), (u'To', 'NNP'), (u'continue', 'VB'), (u'to', 'TO'), (u'maintain', 'VB'), (u'and', 'CC'), (u'operate', 'VB'), (u'an', 'DT'), (u'unenclosed', 'VBN'), (u'sidewalk', 'NN'), (u'caf\\xe9', '-NONE-'), (u'for', 'IN'), (u'a', 'DT'), (u'term', 'NN'), (u'of', 'IN'), (u'four', 'CD'), (u'years', 'NNS'), (u'.', '.'), (u')', ':'), (u'3', 'CD'), (u'.', '.'), (u'149', 'CD'), (u'Second', 'NNP'), (u'Ave.', 'NNP'), (u'Rest', 'NNP'), (u'Inc.', 'NNP'), (u'149', 'CD'), (u'2nd', 'CD'), (u'Avenue', 'NNP'), (u'NY', 'NNP'), (u'NY', 'NNP'), (u'(', 'NNP'), (u'To', 'NNP'), (u'continue', 'VB'), (u'to', 'TO'), (u'maintain', 'VB'), (u'and', 'CC'), (u'operate', 'VB'), (u'an', 'DT'), (u'unenclosed', 'VBN'), (u'sidewalk', 'NN'), (u'caf\\xe9', '-NONE-'), (u'for', 'IN'), (u'a', 'DT'), (u'term', 'NN'), (u'of', 'IN'), (u'four', 'CD'), (u'years', 'NNS'), (u'.', '.'), (u')', ':'), (u'4', 'CD'), (u'.', '.'), (u'241', 'CD'), (u'Bowery', 'NNP'), (u'Corp.', 'NNP'), (u'241', 'CD'), (u'Bowery', 'NNP'), (u'NY', 'NNP'), (u'NY', 'NNP'), (u'(', 'NNP'), (u'To', 'NNP'), (u'continue', 'VB'), (u'to', 'TO'), (u'maintain', 'VB'), (u'and', 'CC'), (u'operate', 'VB'), (u'an', 'DT'), (u'unenclosed', 'VBN'), (u'sidewalk', 'NN'), (u'caf\\xe9', '-NONE-'), (u'for', 'IN'), (u'a', 'DT'), (u'term', 'NN'), (u'of', 'IN'), (u'four', 'CD'), (u'years', 'NNS'), (u'.', '.'), (u')', ':'), (u'5', 'CD'), (u'.', '.'), (u'600', 'CD'), (u'West', 'NNP'), (u'169th', 'CD'), (u'Rest', 'NNP'), (u'Inc.', 'NNP'), (u'4015', 'CD'), (u'Broadway', 'NNP'), (u'NY', 'NNP'), (u'NY', 'NNP'), (u'(', 'NNP'), (u'To', 'NNP'), (u'maintain', 'VB'), (u'and', 'CC'), (u'operate', 'VB'), (u'an', 'DT'), (u'unenclosed', 'VBN'), (u'sidewalk', 'NN'), (u'caf\\xe9', '-NONE-'), (u'for', 'IN'), (u'a', 'DT'), (u'term', 'NN'), (u'of', 'IN'), (u'two', 'CD'), (u'years', 'NNS'), (u'.', '.'), (u')', ':'), (u'6', 'CD'), (u'.', '.'), (u'675', 'CD'), (u'Hudson', 'NNP'), (u'Vault', 'NNP'), (u'LLC', 'NNP'), (u'675', 'CD'), (u'Hudson', 'NNP'), (u'Street', 'NNP'), (u'NY', 'NNP'), (u'NY', 'NNP'), (u'(', 'NNP'), (u'To', 'NNP'), (u'continue', 'VB'), (u'to', 'TO'), (u'maintain', 'VB'), (u'and', 'CC'), (u'operate', 'VB'), (u'an', 'DT'), (u'unenclosed', 'VBN'), (u'sidewalk', 'NN'), (u'caf\\xe9', '-NONE-'), (u'for', 'IN'), (u'a', 'DT'), (u'term', 'NN'), (u'of', 'IN'), (u'four', 'CD'), (u'years', 'NNS'), (u'.', '.'), (u')', ':'), (u'7', 'CD'), (u'.', '.'), (u'76th', 'CD'), (u'Street', 'NNP'), (u'Restaurant', 'NNP'), (u'LLC', 'NNP'), (u'20', 'CD'), (u'E', 'NNP'), (u'76th', 'CD'), (u'Street', 'NNP'), (u'in', 'IN'), (u'the', 'DT'), (u'Manhattan', 'NNP'), (u'Ny', 'NNP'), (u'(', 'NNP'), (u'To', 'NNP'), (u'continue', 'VB'), (u'to', 'TO'), (u'maintain', 'VB'), (u'and', 'CC'), (u'operate', 'VB'), (u'a', 'DT'), (u'small', 'JJ'), (u'unenclosed', 'VBN'), (u'sidewalk', 'NN'), (u'caf\\xe9', '-NONE-'), (u'for', 'IN'), (u'a', 'DT'), (u'term', 'NN'), (u'of', 'IN'), (u'four', 'CD'), (u'years', 'NNS'), (u'.', '.'), (u')', ':'), (u'8', 'CD'), (u'.', '.'), (u'975', 'CD'), (u'Amsterdam', 'NNP'), (u'Inc.', 'NNP'), (u'975', 'CD'), (u'Amsterdam', 'NNP'), (u'Avenue', 'NNP'), (u'in', 'IN'), (u'the', 'DT'), (u'Manhattan', 'NNP'), (u'Ny', 'NNP'), (u'(', 'NNP'), (u'To', 'NNP'), (u'maintain', 'VB'), (u'and', 'CC'), (u'operate', 'VB'), (u'a', 'DT'), (u'regular', 'JJ'), (u'unenclosed/small', 'JJ'), (u'unenclosed', 'VBN'), (u'sidewalk', 'NN'), (u'caf\\xe9', '-NONE-'), (u'for', 'IN'), (u'a', 'DT'), (u'term', 'NN'), (u'of', 'IN'), (u'two', 'CD'), (u'years', 'NNS'), (u'.', '.'), (u')', ':'), (u'9', 'CD'), (u'.', '.'), (u'Amber', 'NNP'), (u'221', 'CD'), (u'Inc.', 'NNP'), (u'221', 'CD'), (u'Columbus', 'NNP'), (u'Avenue', 'NNP'), (u'NY', 'NNP'), (u'NY', 'NNP'), (u'(', 'NNP'), (u'To', 'NNP'), (u'establish', 'VB'), (u'maintain', 'VB'), (u'and', 'CC'), (u'operate', 'VB'), (u'an', 'DT'), (u'enclosed', 'VBN'), (u'sidewalk', 'NN'), (u'caf\\xe9', '-NONE-'), (u'for', 'IN'), (u'a', 'DT'), (u'term', 'NN'), (u'of', 'IN'), (u'two', 'CD'), (u'years', 'NNS'), (u'.', '.'), (u')', ':'), (u'10', 'CD'), (u'.', '.'), (u'BSWR', 'NNP'), (u'Corp.', 'NNP'), (u'423', 'CD'), (u'Amsterdam', 'NNP'), (u'Avenue', 'NNP'), (u'NY', 'NNP'), (u'NY', 'NNP'), (u'(', 'NNP'), (u'To', 'NNP'), (u'maintain', 'VB'), (u'and', 'CC'), (u'operate', 'VB'), (u'an', 'DT'), (u'unenclosed', 'VBN'), (u'sidewalk', 'NN'), (u'caf\\xe9', '-NONE-'), (u'for', 'IN'), (u'a', 'DT'), (u'term', 'NN'), (u'of', 'IN'), (u'two', 'CD'), (u'years', 'NNS'), (u'.', '.'), (u')', ':'), (u'11', 'CD'), (u'.', '.'), (u'Burke\\u2019s', 'NNS'), (u'Beal', 'NNP'), (u'Bocht', 'NNP'), (u'Corp.', 'NNP'), (u'445', 'CD'), (u'W', 'NNP'), (u'238th', 'CD'), (u'Street', 'NNP'), (u'BX', 'NNP'), (u'NY', 'NNP'), (u'(', 'NNP'), (u'To', 'NNP'), (u'continue', 'VB'), (u'to', 'TO'), (u'maintain', 'VB'), (u'and', 'CC'), (u'operate', 'VB'), (u'an', 'DT'), (u'unenclosed', 'VBN'), (u'sidewalk', 'NN'), (u'caf\\xe9', '-NONE-'), (u'for', 'IN'), (u'a', 'DT'), (u'term', 'NN'), (u'of', 'IN'), (u'four', 'CD'), (u'years', 'NNS'), (u'.', '.'), (u')', ':'), (u'12', 'CD'), (u'.', '.'), (u'ERS', 'NNS'), (u'Enterprises', 'NNS'), (u'Inc.', 'NNP'), (u'44', 'CD'), (u'W', 'NNP'), (u'63rd', 'CD'), (u'Street', 'NNP'), (u'NY', 'NNP'), (u'NY', 'NNP'), (u'(', 'NNP'), (u'To', 'NNP'), (u'continue', 'VB'), (u'to', 'TO'), (u'maintain', 'VB'), (u'and', 'CC'), (u'operate', 'VB'), (u'an', 'DT'), (u'enclosed', 'VBN'), (u'sidewalk', 'NN'), (u'caf\\xe9', '-NONE-'), (u'for', 'IN'), (u'a', 'DT'), (u'term', 'NN'), (u'of', 'IN'), (u'four', 'CD'), (u'years', 'NNS'), (u'.', '.'), (u')', ':'), (u'13', 'CD'), (u'.', '.'), (u'Gyro', 'NNP'), (u'King', 'NNP'), (u'Foods', 'NNP'), (u'Corp.', 'NNP'), (u'50', 'CD'), (u'E', 'NNP'), (u'Fordham', 'NNP'), (u'Road', 'NNP'), (u'BX', 'NNP'), (u'NY', 'NNP'), (u'(', 'NNP'), (u'To', 'NNP'), (u'continue', 'VB'), (u'to', 'TO'), (u'maintain', 'VB'), (u'and', 'CC'), (u'operate', 'VB'), (u'an', 'DT'), (u'unenclosed', 'VBN'), (u'sidewalk', 'NN'), (u'caf\\xe9', '-NONE-'), (u'for', 'IN'), (u'a', 'DT'), (u'term', 'NN'), (u'of', 'IN'), (u'four', 'CD'), (u'years', 'NNS'), (u'.', '.'), (u')', ':'), (u'14', 'CD'), (u'.', '.'), (u'Hedgie', 'NNP'), (u'LLC', 'NNP'), (u'22', 'CD'), (u'Peck', 'NNP'), (u'Slip', 'NNP'), (u'NY', 'NNP'), (u'NY', 'NNP'), (u'(', 'NNP'), (u'To', 'NNP'), (u'continue', 'VB'), (u'to', 'TO'), (u'maintain', 'VB'), (u'and', 'CC'), (u'operate', 'VB'), (u'an', 'DT'), (u'unenclosed', 'VBN'), (u'sidewalk', 'NN'), (u'caf\\xe9', '-NONE-'), (u'for', 'IN'), (u'a', 'DT'), (u'term', 'NN'), (u'of', 'IN'), (u'four', 'CD'), (u'years', 'NNS'), (u'.', '.'), (u')', ':'), (u'15', 'CD'), (u'.', '.'), (u'Iridium', 'NNP'), (u'Restaurant', 'NNP'), (u'Corp.', 'NNP'), (u'20', 'CD'), (u'Spring', 'NNP'), (u'Street', 'NNP'), (u'NY', 'NNP'), (u'NY', 'NNP'), (u'(', 'NNP'), (u'To', 'NNP'), (u'continue', 'VB'), (u'to', 'TO'), (u'maintain', 'VB'), (u'and', 'CC'), (u'operate', 'VB'), (u'an', 'DT'), (u'unenclosed', 'VBN'), (u'sidewalk', 'NN'), (u'caf\\xe9', '-NONE-'), (u'for', 'IN'), (u'a', 'DT'), (u'term', 'NN'), (u'of', 'IN'), (u'four', 'CD'), (u'years', 'NNS'), (u'.', '.'), (u')', ':'), (u'16', 'CD'), (u'.', '.'), (u'La', 'NNP'), (u'Boca', 'NNP'), (u'Wine', 'NNP'), (u'Bar', 'NNP'), (u'LLC', 'NNP'), (u'24', 'CD'), (u'Saint', 'NNP'), (u'Nicholas', 'NNP'), (u'Avenue', 'NNP'), (u'in', 'IN'), (u'the', 'DT'), (u'Brooklyn', 'NNP'), (u'Ny', 'NNP'), (u'(', 'NNP'), (u'To', 'NNP'), (u'maintain', 'VB'), (u'and', 'CC'), (u'operate', 'VB'), (u'an', 'DT'), (u'unenclosed', 'VBN'), (u'sidewalk', 'NN'), (u'caf\\xe9', '-NONE-'), (u'for', 'IN'), (u'a', 'DT'), (u'term', 'NN'), (u'of', 'IN'), (u'two', 'CD'), (u'years', 'NNS'), (u'.', '.'), (u')', ':'), (u'17', 'CD'), (u'.', '.'), (u'La', 'NNP'), (u'Meridiana', 'NNP'), (u'LTD', 'NNP'), (u'26', 'CD'), (u'Carmine', 'NNP'), (u'Street', 'NNP'), (u'NY', 'NNP'), (u'NY', 'NNP'), (u'(', 'NNP'), (u'To', 'NNP'), (u'maintain', 'VB'), (u'and', 'CC'), (u'operate', 'VB'), (u'an', 'DT'), (u'unenclosed', 'VBN'), (u'sidewalk', 'NN'), (u'caf\\xe9', '-NONE-'), (u'for', 'IN'), (u'a', 'DT'), (u'term', 'NN'), (u'of', 'IN'), (u'two', 'CD'), (u'years', 'NNS'), (u'.', '.'), (u')', ':'), (u'18', 'CD'), (u'.', '.'), (u'LCN', 'NNP'), (u'Cafe', 'NNP'), (u'Corp.', 'NNP'), (u'10603', 'CD'), (u'Metropolitan', 'NNP'), (u'Avenue', 'NNP'), (u'Queens', 'NNP'), (u'NY', 'NNP'), (u'(', 'NNP'), (u'To', 'NNP'), (u'maintain', 'VB'), (u'and', 'CC'), (u'operate', 'VB'), (u'an', 'DT'), (u'unenclosed', 'VBN'), (u'sidewalk', 'NN'), (u'caf\\xe9', '-NONE-'), (u'for', 'IN'), (u'a', 'DT'), (u'term', 'NN'), (u'of', 'IN'), (u'two', 'CD'), (u'years', 'NNS'), (u'.', '.'), (u')', ':'), (u'19', 'CD'), (u'.', '.'), (u'M.B.R.P', 'JJ'), (u'.', '.'), (u'Rest.', 'NNP'), (u'Inc.', 'NNP'), (u'1454', 'CD'), (u'2nd', 'CD'), (u'Avenue', 'NNP'), (u'NY', 'NNP'), (u'NY', 'NNP'), (u'(', 'NNP'), (u'To', 'NNP'), (u'continue', 'VB'), (u'to', 'TO'), (u'maintain', 'VB'), (u'and', 'CC'), (u'operate', 'VB'), (u'an', 'DT'), (u'unenclosed', 'VBN'), (u'sidewalk', 'NN'), (u'caf\\xe9', '-NONE-'), (u'for', 'IN'), (u'a', 'DT'), (u'term', 'NN'), (u'of', 'IN'), (u'four', 'CD'), (u'years', 'NNS'), (u'.', '.'), (u')', ':'), (u'20', 'CD'), (u'.', '.'), (u'New', 'NNP'), (u'Mekong', 'NNP'), (u'Restaurant', 'NNP'), (u'Corp.', 'NNP'), (u'16', 'CD'), (u'King', 'NNP'), (u'Street', 'NNP'), (u'NY', 'NNP'), (u'NY', 'NNP'), (u'(', 'NNP'), (u'To', 'NNP'), (u'maintain', 'VB'), (u'and', 'CC'), (u'operate', 'VB'), (u'an', 'DT'), (u'unenclosed', 'VBN'), (u'sidewalk', 'NN'), (u'caf\\xe9', '-NONE-'), (u'for', 'IN'), (u'a', 'DT'), (u'term', 'NN'), (u'of', 'IN'), (u'two', 'CD'), (u'years', 'NNS'), (u'.', '.'), (u')', ':'), (u'21', 'CD'), (u'.', '.'), (u'Osteria', 'NNP'), (u'Laguna', 'NNP'), (u'LLC', 'NNP'), (u'209', 'CD'), (u'E', 'NNP'), (u'42nd', 'CD'), (u'Street', 'NNP'), (u'NY', 'NNP'), (u'NY', 'NNP'), (u'(', 'NNP'), (u'To', 'NNP'), (u'continue', 'VB'), (u'to', 'TO'), (u'maintain', 'VB'), (u'and', 'CC'), (u'operate', 'VB'), (u'a', 'DT'), (u'small', 'JJ'), (u'unenclosed', 'VBN'), (u'sidewalk', 'NN'), (u'caf\\xe9', '-NONE-'), (u'for', 'IN'), (u'a', 'DT'), (u'term', 'NN'), (u'of', 'IN'), (u'four', 'CD'), (u'years', 'NNS'), (u'.', '.'), (u')', ':'), (u'22', 'CD'), (u'.', '.'), (u'P.J.\\u2019S', 'JJ'), (u'of', 'IN'), (u'Little', 'NNP'), (u'Italy', 'NNP'), (u'Inc.', 'NNP'), (u'138', 'CD'), (u'Mulberry', 'NNP'), (u'Street', 'NNP'), (u'in', 'IN'), (u'the', 'DT'), (u'Manhattan', 'NNP'), (u'Ny', 'NNP'), (u'(', 'NNP'), (u'To', 'NNP'), (u'maintain', 'VB'), (u'and', 'CC'), (u'operate', 'VB'), (u'an', 'DT'), (u'unenclosed', 'VBN'), (u'sidewalk', 'NN'), (u'caf\\xe9', '-NONE-'), (u'for', 'IN'), (u'a', 'DT'), (u'term', 'NN'), (u'of', 'IN'), (u'two', 'CD'), (u'years', 'NNS'), (u'.', '.'), (u')', ':'), (u'23', 'CD'), (u'.', '.'), (u'Philippe', 'NNP'), (u'NYC', 'NNP'), (u'I', 'NNP'), (u'LLC', 'NNP'), (u'33', 'CD'), (u'E', 'NNP'), (u'60th', 'CD'), (u'Street', 'NNP'), (u'NY', 'NNP'), (u'NY', 'NNP'), (u'(', 'NNP'), (u'To', 'NNP'), (u'continue', 'VB'), (u'to', 'TO'), (u'maintain', 'VB'), (u'and', 'CC'), (u'operate', 'VB'), (u'a', 'DT'), (u'small', 'JJ'), (u'unenclosed', 'VBN'), (u'sidewalk', 'NN'), (u'caf\\xe9', '-NONE-'), (u'for', 'IN'), (u'a', 'DT'), (u'term', 'NN'), (u'of', 'IN'), (u'four', 'CD'), (u'years', 'NNS'), (u'.', '.'), (u')', ':'), (u'24', 'CD'), (u'.', '.'), (u'Ray', 'NNP'), (u'Thai', 'NNP'), (u'Inc.', 'NNP'), (u'723', 'CD'), (u'Fulton', 'NNP'), (u'Street', 'NNP'), (u'in', 'IN'), (u'the', 'DT'), (u'Brooklyn', 'NNP'), (u'Ny', 'NNP'), (u'(', 'NNP'), (u'To', 'NNP'), (u'continue', 'VB'), (u'to', 'TO'), (u'maintain', 'VB'), (u'and', 'CC'), (u'operate', 'VB'), (u'an', 'DT'), (u'unenclosed', 'VBN'), (u'sidewalk', 'NN'), (u'caf\\xe9', '-NONE-'), (u'for', 'IN'), (u'a', 'DT'), (u'term', 'NN'), (u'of', 'IN'), (u'four', 'CD'), (u'years', 'NNS'), (u'.', '.'), (u')', ':'), (u'25', 'CD'), (u'.', '.'), (u'Sals', 'NNS'), (u'Family', 'RB'), (u'Pizza', 'NNP'), (u'Inc.', 'NNP'), (u'384', 'CD'), (u'Broome', 'NNP'), (u'Street', 'NNP'), (u'in', 'IN'), (u'the', 'DT'), (u'Manhattan', 'NNP'), (u'Ny', 'NNP'), (u'(', 'NNP'), (u'To', 'NNP'), (u'establish', 'VB'), (u'maintain', 'NN'), (u'and', 'CC'), (u'operate', 'VB'), (u'an', 'DT'), (u'unenclosed', 'VBN'), (u'sidewalk', 'NN'), (u'caf\\xe9', '-NONE-'), (u'for', 'IN'), (u'a', 'DT'), (u'term', 'NN'), (u'of', 'IN'), (u'two', 'CD'), (u'years', 'NNS'), (u'.', '.'), (u')', ':')]\n",
      "[(u'Test', 'NN'), (u'Case', 'NN'), (u'2', 'CD'), (u'Type', 'NNP'), (u':', ':'), (u'Public', 'NNP'), (u'Hearing', 'NNP'), (u'Department', 'NNP'), (u':', ':'), (u'Department', 'NNP'), (u'Of', 'IN'), (u'Consumer', 'NNP'), (u'Affairs', 'NNP'), (u'Date', 'NNP'), (u'Published', 'NNP'), (u':', ':'), (u'January', 'NNP'), (u'20', 'CD'), (u'2015', 'CD'), (u'NOTICE', 'NNP'), (u'IS', 'NNP'), (u'HEREBY', 'NNP'), (u'GIVEN', 'NNP'), (u'pursuant', 'JJ'), (u'to', 'TO'), (u'law', 'NN'), (u'that', 'IN'), (u'the', 'DT'), (u'New', 'NNP'), (u'York', 'NNP'), (u'City', 'NNP'), (u'Department', 'NNP'), (u'of', 'IN'), (u'Consumer', 'NNP'), (u'Affairs', 'NNP'), (u'will', 'MD'), (u'hold', 'VB'), (u'a', 'DT'), (u'Public', 'NNP'), (u'Hearing', 'NNP'), (u'on', 'IN'), (u'Wednesday', 'NNP'), (u'January', 'NNP'), (u'28', 'CD'), (u'2015', 'CD'), (u'at', 'IN'), (u'2:00', 'CD'), (u'P.M.', 'NNP'), (u'at', 'IN'), (u'66', 'CD'), (u'John', 'NNP'), (u'Street', 'NNP'), (u'11th', 'JJ'), (u'Floor', 'NNP'), (u'NY', 'NNP'), (u'NY', 'NNP'), (u'on', 'IN'), (u'the', 'DT'), (u'following', 'JJ'), (u'petitions', 'NNS'), (u'for', 'IN'), (u'sidewalk', 'NN'), (u'caf\\xe9', '-NONE-'), (u'revocable', 'JJ'), (u'consent', 'NN'), (u':', ':'), (u'1', 'LS'), (u'.', '.'), (u'132', 'CD'), (u'Mulberry', 'NNP'), (u'Inc.', 'NNP'), (u'132', 'CD'), (u'Mulberry', 'NNP'), (u'Street', 'NNP'), (u'NY', 'NNP'), (u'NY', 'NNP'), (u'(', '-NONE-'), (u'To', 'NNP'), (u'maintain', 'VB'), (u'and', 'CC'), (u'operate', 'VB'), (u'an', 'DT'), (u'unenclosed', 'VBN'), (u'sidewalk', 'NN'), (u'caf\\xe9', '-NONE-'), (u'for', 'IN'), (u'a', 'DT'), (u'term', 'NN'), (u'of', 'IN'), (u'two', 'CD'), (u'years', 'NNS'), (u'.', '.'), (u')', ':'), (u'2', 'CD'), (u'.', '.'), (u'135', 'CD'), (u'West', 'NNP'), (u'Broadway', 'NNP'), (u'Food', 'NNP'), (u'&', 'CC'), (u'Drink', 'NNP'), (u'LLC', 'NNP'), (u'135', 'CD'), (u'W', 'NNP'), (u'Broadway', 'NNP'), (u'NY', 'NNP'), (u'NY', 'NNP'), (u'(', '-NONE-'), (u'To', 'NNP'), (u'continue', 'VB'), (u'to', 'TO'), (u'maintain', 'VB'), (u'and', 'CC'), (u'operate', 'VB'), (u'an', 'DT'), (u'unenclosed', 'VBN'), (u'sidewalk', 'NN'), (u'caf\\xe9', '-NONE-'), (u'for', 'IN'), (u'a', 'DT'), (u'term', 'NN'), (u'of', 'IN'), (u'four', 'CD'), (u'years', 'NNS'), (u'.', '.'), (u')', ':'), (u'3', 'CD'), (u'.', '.'), (u'149', 'CD'), (u'Second', 'NNP'), (u'Ave.', 'NNP'), (u'Rest', 'NNP'), (u'Inc.', 'NNP'), (u'149', 'CD'), (u'2nd', 'CD'), (u'Avenue', 'NNP'), (u'NY', 'NNP'), (u'NY', 'NNP'), (u'(', '-NONE-'), (u'To', 'NNP'), (u'continue', 'VB'), (u'to', 'TO'), (u'maintain', 'VB'), (u'and', 'CC'), (u'operate', 'VB'), (u'an', 'DT'), (u'unenclosed', 'VBN'), (u'sidewalk', 'NN'), (u'caf\\xe9', '-NONE-'), (u'for', 'IN'), (u'a', 'DT'), (u'term', 'NN'), (u'of', 'IN'), (u'four', 'CD'), (u'years', 'NNS'), (u'.', '.'), (u')', ':'), (u'4', 'CD'), (u'.', '.'), (u'241', 'CD'), (u'Bowery', 'NNP'), (u'Corp.', 'NNP'), (u'241', 'CD'), (u'Bowery', 'NNP'), (u'NY', 'NNP'), (u'NY', 'NNP'), (u'(', '-NONE-'), (u'To', 'NNP'), (u'continue', 'VB'), (u'to', 'TO'), (u'maintain', 'VB'), (u'and', 'CC'), (u'operate', 'VB'), (u'an', 'DT'), (u'unenclosed', 'VBN'), (u'sidewalk', 'NN'), (u'caf\\xe9', '-NONE-'), (u'for', 'IN'), (u'a', 'DT'), (u'term', 'NN'), (u'of', 'IN'), (u'four', 'CD'), (u'years', 'NNS'), (u'.', '.'), (u')', ':'), (u'5', 'CD'), (u'.', '.'), (u'600', 'CD'), (u'West', 'NNP'), (u'169th', 'CD'), (u'Rest', 'NNP'), (u'Inc.', 'NNP'), (u'4015', 'CD'), (u'Broadway', 'NNP'), (u'NY', 'NNP'), (u'NY', 'NNP'), (u'(', '-NONE-'), (u'To', 'NNP'), (u'maintain', 'VB'), (u'and', 'CC'), (u'operate', 'VB'), (u'an', 'DT'), (u'unenclosed', 'VBN'), (u'sidewalk', 'NN'), (u'caf\\xe9', '-NONE-'), (u'for', 'IN'), (u'a', 'DT'), (u'term', 'NN'), (u'of', 'IN'), (u'two', 'CD'), (u'years', 'NNS'), (u'.', '.'), (u')', ':'), (u'6', 'CD'), (u'.', '.'), (u'675', 'CD'), (u'Hudson', 'NNP'), (u'Vault', 'NNP'), (u'LLC', 'NNP'), (u'675', 'CD'), (u'Hudson', 'NNP'), (u'Street', 'NNP'), (u'NY', 'NNP'), (u'NY', 'NNP'), (u'(', '-NONE-'), (u'To', 'NNP'), (u'continue', 'VB'), (u'to', 'TO'), (u'maintain', 'VB'), (u'and', 'CC'), (u'operate', 'VB'), (u'an', 'DT'), (u'unenclosed', 'VBN'), (u'sidewalk', 'NN'), (u'caf\\xe9', '-NONE-'), (u'for', 'IN'), (u'a', 'DT'), (u'term', 'NN'), (u'of', 'IN'), (u'four', 'CD'), (u'years', 'NNS'), (u'.', '.'), (u')', ':'), (u'7', 'CD'), (u'.', '.'), (u'76th', 'CD'), (u'Street', 'NNP'), (u'Restaurant', 'NNP'), (u'LLC', 'NNP'), (u'20', 'CD'), (u'E', 'NNP'), (u'76th', 'CD'), (u'Street', 'NNP'), (u'in', 'IN'), (u'the', 'DT'), (u'Manhattan', 'NNP'), (u'Ny', 'NNP'), (u'(', '-NONE-'), (u'To', 'NNP'), (u'continue', 'VB'), (u'to', 'TO'), (u'maintain', 'VB'), (u'and', 'CC'), (u'operate', 'VB'), (u'a', 'DT'), (u'small', 'JJ'), (u'unenclosed', 'VBN'), (u'sidewalk', 'NN'), (u'caf\\xe9', '-NONE-'), (u'for', 'IN'), (u'a', 'DT'), (u'term', 'NN'), (u'of', 'IN'), (u'four', 'CD'), (u'years', 'NNS'), (u'.', '.'), (u')', ':'), (u'8', 'CD'), (u'.', '.'), (u'975', 'CD'), (u'Amsterdam', 'NNP'), (u'Inc.', 'NNP'), (u'975', 'CD'), (u'Amsterdam', 'NNP'), (u'Avenue', 'NNP'), (u'in', 'IN'), (u'the', 'DT'), (u'Manhattan', 'NNP'), (u'Ny', 'NNP'), (u'(', '-NONE-'), (u'To', 'NNP'), (u'maintain', 'VB'), (u'and', 'CC'), (u'operate', 'VB'), (u'a', 'DT'), (u'regular', 'JJ'), (u'unenclosed/small', 'JJ'), (u'unenclosed', 'VBN'), (u'sidewalk', 'NN'), (u'caf\\xe9', '-NONE-'), (u'for', 'IN'), (u'a', 'DT'), (u'term', 'NN'), (u'of', 'IN'), (u'two', 'CD'), (u'years', 'NNS'), (u'.', '.'), (u')', ':'), (u'9', 'CD'), (u'.', '.'), (u'Amber', 'NNP'), (u'221', 'CD'), (u'Inc.', 'NNP'), (u'221', 'CD'), (u'Columbus', 'NNP'), (u'Avenue', 'NNP'), (u'NY', 'NNP'), (u'NY', 'NNP'), (u'(', '-NONE-'), (u'To', 'NNP'), (u'establish', 'VB'), (u'maintain', 'VB'), (u'and', 'CC'), (u'operate', 'VB'), (u'an', 'DT'), (u'enclosed', 'VBN'), (u'sidewalk', 'NN'), (u'caf\\xe9', '-NONE-'), (u'for', 'IN'), (u'a', 'DT'), (u'term', 'NN'), (u'of', 'IN'), (u'two', 'CD'), (u'years', 'NNS'), (u'.', '.'), (u')', ':'), (u'10', 'CD'), (u'.', '.'), (u'BSWR', 'NNP'), (u'Corp.', 'NNP'), (u'423', 'CD'), (u'Amsterdam', 'NNP'), (u'Avenue', 'NNP'), (u'NY', 'NNP'), (u'NY', 'NNP'), (u'(', '-NONE-'), (u'To', 'NNP'), (u'maintain', 'VB'), (u'and', 'CC'), (u'operate', 'VB'), (u'an', 'DT'), (u'unenclosed', 'VBN'), (u'sidewalk', 'NN'), (u'caf\\xe9', '-NONE-'), (u'for', 'IN'), (u'a', 'DT'), (u'term', 'NN'), (u'of', 'IN'), (u'two', 'CD'), (u'years', 'NNS'), (u'.', '.'), (u')', ':'), (u'11', 'CD'), (u'.', '.'), (u'Burke\\u2019s', 'NNS'), (u'Beal', 'NNP'), (u'Bocht', 'NNP'), (u'Corp.', 'NNP'), (u'445', 'CD'), (u'W', 'NNP'), (u'238th', 'CD'), (u'Street', 'NNP'), (u'BX', 'NNP'), (u'NY', 'NNP'), (u'(', '-NONE-'), (u'To', 'NNP'), (u'continue', 'VB'), (u'to', 'TO'), (u'maintain', 'VB'), (u'and', 'CC'), (u'operate', 'VB'), (u'an', 'DT'), (u'unenclosed', 'VBN'), (u'sidewalk', 'NN'), (u'caf\\xe9', '-NONE-'), (u'for', 'IN'), (u'a', 'DT'), (u'term', 'NN'), (u'of', 'IN'), (u'four', 'CD'), (u'years', 'NNS'), (u'.', '.'), (u')', ':'), (u'12', 'CD'), (u'.', '.'), (u'ERS', 'NNS'), (u'Enterprises', 'NNS'), (u'Inc.', 'NNP'), (u'44', 'CD'), (u'W', 'NNP'), (u'63rd', 'CD'), (u'Street', 'NNP'), (u'NY', 'NNP'), (u'NY', 'NNP'), (u'(', '-NONE-'), (u'To', 'NNP'), (u'continue', 'VB'), (u'to', 'TO'), (u'maintain', 'VB'), (u'and', 'CC'), (u'operate', 'VB'), (u'an', 'DT'), (u'enclosed', 'VBN'), (u'sidewalk', 'NN'), (u'caf\\xe9', '-NONE-'), (u'for', 'IN'), (u'a', 'DT'), (u'term', 'NN'), (u'of', 'IN'), (u'four', 'CD'), (u'years', 'NNS'), (u'.', '.'), (u')', ':'), (u'13', 'CD'), (u'.', '.'), (u'Gyro', 'NNP'), (u'King', 'NNP'), (u'Foods', 'NNP'), (u'Corp.', 'NNP'), (u'50', 'CD'), (u'E', 'NNP'), (u'Fordham', 'NNP'), (u'Road', 'NNP'), (u'BX', 'NNP'), (u'NY', 'NNP'), (u'(', '-NONE-'), (u'To', 'NNP'), (u'continue', 'VB'), (u'to', 'TO'), (u'maintain', 'VB'), (u'and', 'CC'), (u'operate', 'VB'), (u'an', 'DT'), (u'unenclosed', 'VBN'), (u'sidewalk', 'NN'), (u'caf\\xe9', '-NONE-'), (u'for', 'IN'), (u'a', 'DT'), (u'term', 'NN'), (u'of', 'IN'), (u'four', 'CD'), (u'years', 'NNS'), (u'.', '.'), (u')', ':'), (u'14', 'CD'), (u'.', '.'), (u'Hedgie', 'NNP'), (u'LLC', 'NNP'), (u'22', 'CD'), (u'Peck', 'NNP'), (u'Slip', 'NNP'), (u'NY', 'NNP'), (u'NY', 'NNP'), (u'(', '-NONE-'), (u'To', 'NNP'), (u'continue', 'VB'), (u'to', 'TO'), (u'maintain', 'VB'), (u'and', 'CC'), (u'operate', 'VB'), (u'an', 'DT'), (u'unenclosed', 'VBN'), (u'sidewalk', 'NN'), (u'caf\\xe9', '-NONE-'), (u'for', 'IN'), (u'a', 'DT'), (u'term', 'NN'), (u'of', 'IN'), (u'four', 'CD'), (u'years', 'NNS'), (u'.', '.'), (u')', ':'), (u'15', 'CD'), (u'.', '.'), (u'Iridium', 'NNP'), (u'Restaurant', 'NNP'), (u'Corp.', 'NNP'), (u'20', 'CD'), (u'Spring', 'NNP'), (u'Street', 'NNP'), (u'NY', 'NNP'), (u'NY', 'NNP'), (u'(', '-NONE-'), (u'To', 'NNP'), (u'continue', 'VB'), (u'to', 'TO'), (u'maintain', 'VB'), (u'and', 'CC'), (u'operate', 'VB'), (u'an', 'DT'), (u'unenclosed', 'VBN'), (u'sidewalk', 'NN'), (u'caf\\xe9', '-NONE-'), (u'for', 'IN'), (u'a', 'DT'), (u'term', 'NN'), (u'of', 'IN'), (u'four', 'CD'), (u'years', 'NNS'), (u'.', '.'), (u')', ':'), (u'16', 'CD'), (u'.', '.'), (u'La', 'NNP'), (u'Boca', 'NNP'), (u'Wine', 'NNP'), (u'Bar', 'NNP'), (u'LLC', 'NNP'), (u'24', 'CD'), (u'Saint', 'NNP'), (u'Nicholas', 'NNP'), (u'Avenue', 'NNP'), (u'in', 'IN'), (u'the', 'DT'), (u'Brooklyn', 'NNP'), (u'Ny', 'NNP'), (u'(', '-NONE-'), (u'To', 'NNP'), (u'maintain', 'VB'), (u'and', 'CC'), (u'operate', 'VB'), (u'an', 'DT'), (u'unenclosed', 'VBN'), (u'sidewalk', 'NN'), (u'caf\\xe9', '-NONE-'), (u'for', 'IN'), (u'a', 'DT'), (u'term', 'NN'), (u'of', 'IN'), (u'two', 'CD'), (u'years', 'NNS'), (u'.', '.'), (u')', ':'), (u'17', 'CD'), (u'.', '.'), (u'La', 'NNP'), (u'Meridiana', 'NNP'), (u'LTD', 'NNP'), (u'26', 'CD'), (u'Carmine', 'NNP'), (u'Street', 'NNP'), (u'NY', 'NNP'), (u'NY', 'NNP'), (u'(', '-NONE-'), (u'To', 'NNP'), (u'maintain', 'VB'), (u'and', 'CC'), (u'operate', 'VB'), (u'an', 'DT'), (u'unenclosed', 'VBN'), (u'sidewalk', 'NN'), (u'caf\\xe9', '-NONE-'), (u'for', 'IN'), (u'a', 'DT'), (u'term', 'NN'), (u'of', 'IN'), (u'two', 'CD'), (u'years', 'NNS'), (u'.', '.'), (u')', ':'), (u'18', 'CD'), (u'.', '.'), (u'LCN', 'NNP'), (u'Cafe', 'NNP'), (u'Corp.', 'NNP'), (u'10603', 'CD'), (u'Metropolitan', 'NNP'), (u'Avenue', 'NNP'), (u'Queens', 'NNP'), (u'NY', 'NNP'), (u'(', '-NONE-'), (u'To', 'NNP'), (u'maintain', 'VB'), (u'and', 'CC'), (u'operate', 'VB'), (u'an', 'DT'), (u'unenclosed', 'VBN'), (u'sidewalk', 'NN'), (u'caf\\xe9', '-NONE-'), (u'for', 'IN'), (u'a', 'DT'), (u'term', 'NN'), (u'of', 'IN'), (u'two', 'CD'), (u'years', 'NNS'), (u'.', '.'), (u')', ':'), (u'19', 'CD'), (u'.', '.'), (u'M.B.R.P', 'JJ'), (u'.', '.'), (u'Rest.', 'NNP'), (u'Inc.', 'NNP'), (u'1454', 'CD'), (u'2nd', 'CD'), (u'Avenue', 'NNP'), (u'NY', 'NNP'), (u'NY', 'NNP'), (u'(', '-NONE-'), (u'To', 'NNP'), (u'continue', 'VB'), (u'to', 'TO'), (u'maintain', 'VB'), (u'and', 'CC'), (u'operate', 'VB'), (u'an', 'DT'), (u'unenclosed', 'VBN'), (u'sidewalk', 'NN'), (u'caf\\xe9', '-NONE-'), (u'for', 'IN'), (u'a', 'DT'), (u'term', 'NN'), (u'of', 'IN'), (u'four', 'CD'), (u'years', 'NNS'), (u'.', '.'), (u')', ':'), (u'20', 'CD'), (u'.', '.'), (u'New', 'NNP'), (u'Mekong', 'NNP'), (u'Restaurant', 'NNP'), (u'Corp.', 'NNP'), (u'16', 'CD'), (u'King', 'NNP'), (u'Street', 'NNP'), (u'NY', 'NNP'), (u'NY', 'NNP'), (u'(', '-NONE-'), (u'To', 'NNP'), (u'maintain', 'VB'), (u'and', 'CC'), (u'operate', 'VB'), (u'an', 'DT'), (u'unenclosed', 'VBN'), (u'sidewalk', 'NN'), (u'caf\\xe9', '-NONE-'), (u'for', 'IN'), (u'a', 'DT'), (u'term', 'NN'), (u'of', 'IN'), (u'two', 'CD'), (u'years', 'NNS'), (u'.', '.'), (u')', ':'), (u'21', 'CD'), (u'.', '.'), (u'Osteria', 'NNP'), (u'Laguna', 'NNP'), (u'LLC', 'NNP'), (u'209', 'CD'), (u'E', 'NNP'), (u'42nd', 'CD'), (u'Street', 'NNP'), (u'NY', 'NNP'), (u'NY', 'NNP'), (u'(', '-NONE-'), (u'To', 'NNP'), (u'continue', 'VB'), (u'to', 'TO'), (u'maintain', 'VB'), (u'and', 'CC'), (u'operate', 'VB'), (u'a', 'DT'), (u'small', 'JJ'), (u'unenclosed', 'VBN'), (u'sidewalk', 'NN'), (u'caf\\xe9', '-NONE-'), (u'for', 'IN'), (u'a', 'DT'), (u'term', 'NN'), (u'of', 'IN'), (u'four', 'CD'), (u'years', 'NNS'), (u'.', '.'), (u')', ':'), (u'22', 'CD'), (u'.', '.'), (u'P.J.\\u2019S', 'JJ'), (u'of', 'IN'), (u'Little', 'NNP'), (u'Italy', 'NNP'), (u'Inc.', 'NNP'), (u'138', 'CD'), (u'Mulberry', 'NNP'), (u'Street', 'NNP'), (u'in', 'IN'), (u'the', 'DT'), (u'Manhattan', 'NNP'), (u'Ny', 'NNP'), (u'(', '-NONE-'), (u'To', 'NNP'), (u'maintain', 'VB'), (u'and', 'CC'), (u'operate', 'VB'), (u'an', 'DT'), (u'unenclosed', 'VBN'), (u'sidewalk', 'NN'), (u'caf\\xe9', '-NONE-'), (u'for', 'IN'), (u'a', 'DT'), (u'term', 'NN'), (u'of', 'IN'), (u'two', 'CD'), (u'years', 'NNS'), (u'.', '.'), (u')', ':'), (u'23', 'CD'), (u'.', '.'), (u'Philippe', 'NNP'), (u'NYC', 'NNP'), (u'I', 'NNP'), (u'LLC', 'NNP'), (u'33', 'CD'), (u'E', 'NNP'), (u'60th', 'CD'), (u'Street', 'NNP'), (u'NY', 'NNP'), (u'NY', 'NNP'), (u'(', '-NONE-'), (u'To', 'NNP'), (u'continue', 'VB'), (u'to', 'TO'), (u'maintain', 'VB'), (u'and', 'CC'), (u'operate', 'VB'), (u'a', 'DT'), (u'small', 'JJ'), (u'unenclosed', 'VBN'), (u'sidewalk', 'NN'), (u'caf\\xe9', '-NONE-'), (u'for', 'IN'), (u'a', 'DT'), (u'term', 'NN'), (u'of', 'IN'), (u'four', 'CD'), (u'years', 'NNS'), (u'.', '.'), (u')', ':'), (u'24', 'CD'), (u'.', '.'), (u'Ray', 'NNP'), (u'Thai', 'NNP'), (u'Inc.', 'NNP'), (u'723', 'CD'), (u'Fulton', 'NNP'), (u'Street', 'NNP'), (u'in', 'IN'), (u'the', 'DT'), (u'Brooklyn', 'NNP'), (u'Ny', 'NNP'), (u'(', '-NONE-'), (u'To', 'NNP'), (u'continue', 'VB'), (u'to', 'TO'), (u'maintain', 'VB'), (u'and', 'CC'), (u'operate', 'VB'), (u'an', 'DT'), (u'unenclosed', 'VBN'), (u'sidewalk', 'NN'), (u'caf\\xe9', '-NONE-'), (u'for', 'IN'), (u'a', 'DT'), (u'term', 'NN'), (u'of', 'IN'), (u'four', 'CD'), (u'years', 'NNS'), (u'.', '.'), (u')', ':'), (u'25', 'CD'), (u'.', '.'), (u'Sals', 'NNS'), (u'Family', 'RB'), (u'Pizza', 'NNP'), (u'Inc.', 'NNP'), (u'384', 'CD'), (u'Broome', 'NNP'), (u'Street', 'NNP'), (u'in', 'IN'), (u'the', 'DT'), (u'Manhattan', 'NNP'), (u'Ny', 'NNP'), (u'(', '-NONE-'), (u'To', 'NNP'), (u'establish', 'VB'), (u'maintain', 'NN'), (u'and', 'CC'), (u'operate', 'VB'), (u'an', 'DT'), (u'unenclosed', 'VBN'), (u'sidewalk', 'NN'), (u'caf\\xe9', '-NONE-'), (u'for', 'IN'), (u'a', 'DT'), (u'term', 'NN'), (u'of', 'IN'), (u'two', 'CD'), (u'years', 'NNS'), (u'.', '.'), (u')', ':')]\n"
     ]
    }
   ],
   "source": [
    "pos =  nltk.pos_tag(text)\n",
    "pos = [p for p in pos if p[0] != ',']\n",
    "print(pos)\n",
    "pos = map(filter_paren, pos)\n",
    "print (pos)"
   ]
  },
  {
   "cell_type": "code",
   "execution_count": 8,
   "metadata": {
    "collapsed": false
   },
   "outputs": [
    {
     "name": "stdout",
     "output_type": "stream",
     "text": [
      "West 169th Rest Inc. 4015\n",
      "Street Restaurant LLC 20 E 76th\n",
      "Amber 221 Inc. 221\n",
      "Beal Bocht Corp. 445 W 238th\n",
      "Inc. 44 W 63rd\n",
      "Osteria Laguna LLC 209 E 42nd\n",
      "Philippe NYC I LLC 33 E 60th\n"
     ]
    }
   ],
   "source": [
    "showResults(parse1(pos))"
   ]
  },
  {
   "cell_type": "code",
   "execution_count": 9,
   "metadata": {
    "collapsed": false
   },
   "outputs": [
    {
     "name": "stdout",
     "output_type": "stream",
     "text": [
      "2 Type\n",
      "20 2015 NOTICE IS HEREBY GIVEN\n",
      "2:00 P.M.\n",
      "66 John Street 11th Floor NY NY\n",
      "66 John Street 11th Floor NY NY\n",
      "132 Mulberry Inc.\n",
      "132 Mulberry Street NY NY\n",
      "132 Mulberry Street NY NY\n",
      "135 West Broadway Food\n",
      "135 W Broadway NY NY\n",
      "135 W Broadway NY NY\n",
      "149 Second Ave. Rest Inc.\n",
      "149 2nd Avenue NY NY\n",
      "149 2nd Avenue NY NY\n",
      "241 Bowery Corp.\n",
      "241 Bowery NY NY\n",
      "241 Bowery NY NY\n",
      "600 West 169th Rest Inc.\n",
      "4015 Broadway NY NY\n",
      "4015 Broadway NY NY\n",
      "675 Hudson Vault LLC\n",
      "675 Hudson Street NY NY\n",
      "675 Hudson Street NY NY\n",
      "76th Street Restaurant LLC\n",
      "20 E 76th Street\n",
      "975 Amsterdam Inc.\n",
      "975 Amsterdam Avenue\n",
      "221 Inc. 221 Columbus Avenue NY NY\n",
      "221 Inc. 221 Columbus Avenue NY NY\n",
      "423 Amsterdam Avenue NY NY\n",
      "423 Amsterdam Avenue NY NY\n",
      "445 W 238th Street BX NY\n",
      "445 W 238th Street BX NY\n",
      "44 W 63rd Street NY NY\n",
      "44 W 63rd Street NY NY\n",
      "50 E Fordham Road BX NY\n",
      "50 E Fordham Road BX NY\n",
      "22 Peck Slip NY NY\n",
      "22 Peck Slip NY NY\n",
      "20 Spring Street NY NY\n",
      "20 Spring Street NY NY\n",
      "24 Saint Nicholas Avenue\n",
      "26 Carmine Street NY NY\n",
      "26 Carmine Street NY NY\n",
      "10603 Metropolitan Avenue Queens NY\n",
      "10603 Metropolitan Avenue Queens NY\n",
      "1454 2nd Avenue NY NY\n",
      "1454 2nd Avenue NY NY\n",
      "16 King Street NY NY\n",
      "16 King Street NY NY\n",
      "209 E 42nd Street NY NY\n",
      "209 E 42nd Street NY NY\n",
      "138 Mulberry Street\n",
      "33 E 60th Street NY NY\n",
      "33 E 60th Street NY NY\n",
      "723 Fulton Street\n",
      "384 Broome Street\n"
     ]
    }
   ],
   "source": [
    "showResults(parse2(pos))"
   ]
  },
  {
   "cell_type": "code",
   "execution_count": null,
   "metadata": {
    "collapsed": true
   },
   "outputs": [],
   "source": []
  },
  {
   "cell_type": "code",
   "execution_count": null,
   "metadata": {
    "collapsed": true
   },
   "outputs": [],
   "source": []
  }
 ],
 "metadata": {
  "kernelspec": {
   "display_name": "Python 2",
   "language": "python",
   "name": "python2"
  },
  "language_info": {
   "codemirror_mode": {
    "name": "ipython",
    "version": 2
   },
   "file_extension": ".py",
   "mimetype": "text/x-python",
   "name": "python",
   "nbconvert_exporter": "python",
   "pygments_lexer": "ipython2",
   "version": "2.7.6"
  }
 },
 "nbformat": 4,
 "nbformat_minor": 0
}
